{
 "cells": [
  {
   "cell_type": "code",
   "execution_count": 1,
   "metadata": {},
   "outputs": [
    {
     "name": "stderr",
     "output_type": "stream",
     "text": [
      "Using TensorFlow backend.\n"
     ]
    }
   ],
   "source": [
    "from __future__ import print_function\n",
    "import keras\n",
    "from keras.datasets import mnist\n",
    "from keras.models import Sequential\n",
    "from keras.layers import Dense, Activation, Dropout, Flatten\n",
    "from keras.layers import Conv2D, MaxPooling2D\n",
    "from keras.utils import np_utils\n",
    "from keras import backend as K\n",
    "\n"
   ]
  },
  {
   "cell_type": "code",
   "execution_count": 2,
   "metadata": {
    "collapsed": true
   },
   "outputs": [],
   "source": [
    "batch_size = 128\n",
    "num_classes = 10\n",
    "epochs = 10\n",
    "\n",
    "# input image dimensions\n",
    "img_rows, img_cols = 28, 28\n"
   ]
  },
  {
   "cell_type": "code",
   "execution_count": 3,
   "metadata": {
    "collapsed": true
   },
   "outputs": [],
   "source": [
    "# the data, shuffled and split between train and test sets\n",
    "(x_train, y_train), (x_test, y_test) = mnist.load_data()"
   ]
  },
  {
   "cell_type": "code",
   "execution_count": 4,
   "metadata": {},
   "outputs": [
    {
     "name": "stdout",
     "output_type": "stream",
     "text": [
      "x_train shape: (60000, 28, 28)\n",
      "y_train shape: (60000,)\n",
      "x_test shape: (10000, 28, 28)\n",
      "y_test shape: (10000,)\n"
     ]
    }
   ],
   "source": [
    "print(\"x_train shape:\", x_train.shape)\n",
    "print(\"y_train shape:\", y_train.shape)\n",
    "print(\"x_test shape:\", x_test.shape)\n",
    "print(\"y_test shape:\", y_test.shape)\n"
   ]
  },
  {
   "cell_type": "code",
   "execution_count": 5,
   "metadata": {
    "collapsed": true
   },
   "outputs": [],
   "source": [
    "# Make data 4 dimensional, although it's only 3 dimension, because there's only greyscale, not colour\n",
    "if K.image_data_format() == 'channels_first':\n",
    "    x_train = x_train.reshape(x_train.shape[0], 1, img_rows, img_cols)\n",
    "    x_test = x_test.reshape(x_test.shape[0], 1, img_rows, img_cols)\n",
    "    input_shape = (1, img_rows, img_cols)\n",
    "else:\n",
    "    #x_train = x_train.reshape(x_train.shape[0], img_rows, img_cols, 1)\n",
    "    #x_test = x_test.reshape(x_test.shape[0], img_rows, img_cols, 1)\n",
    "    #input_shape = (img_rows, img_cols, 1)\n",
    "    # flatten pixels out\n",
    "    x_train = x_train.reshape(x_train.shape[0], img_rows*img_cols)\n",
    "    x_test = x_test.reshape(x_test.shape[0], img_rows*img_cols)\n",
    "    input_shape = (img_rows*img_cols, )"
   ]
  },
  {
   "cell_type": "code",
   "execution_count": 6,
   "metadata": {},
   "outputs": [
    {
     "name": "stdout",
     "output_type": "stream",
     "text": [
      "x_train reshaped: (60000, 784)\n",
      "x_test reshaped: (10000, 784)\n",
      "input_shape: (784,)\n"
     ]
    }
   ],
   "source": [
    "print(\"x_train reshaped:\", x_train.shape)\n",
    "print(\"x_test reshaped:\", x_test.shape)\n",
    "print(\"input_shape:\", input_shape)"
   ]
  },
  {
   "cell_type": "code",
   "execution_count": 7,
   "metadata": {},
   "outputs": [
    {
     "name": "stdout",
     "output_type": "stream",
     "text": [
      "converting y labels to one-hot categorical\n",
      "# before reshape\n",
      "first y value: 5\n",
      "y shape: (60000,)\n",
      "# after reshape\n",
      "y_train shape after reshape: (60000, 10)\n",
      "first y value after reshape: [ 0.  0.  0.  0.  0.  1.  0.  0.  0.  0.]\n",
      "60000 train samples\n",
      "10000 test samples\n"
     ]
    }
   ],
   "source": [
    "# Make into floats between 0-1\n",
    "x_train = x_train.astype('float32')\n",
    "x_test = x_test.astype('float32')\n",
    "x_train /= 255\n",
    "x_test /= 255\n",
    "\n",
    "# Convert mnist numbers to one-hot categorical\n",
    "print(\"converting y labels to one-hot categorical\")\n",
    "print(\"# before reshape\")\n",
    "print('first y value:', y_train[0])\n",
    "print('y shape:', y_train.shape)\n",
    "\n",
    "y_train = keras.utils.to_categorical(y_train, num_classes)\n",
    "y_test = keras.utils.to_categorical(y_test, num_classes)\n",
    "print(\"# after reshape\")\n",
    "\n",
    "print('y_train shape after reshape:', y_train.shape)\n",
    "print('first y value after reshape:', y_train[0])\n",
    "\n",
    "print(x_train.shape[0], 'train samples')\n",
    "print(x_test.shape[0], 'test samples')\n"
   ]
  },
  {
   "cell_type": "code",
   "execution_count": 8,
   "metadata": {
    "collapsed": true
   },
   "outputs": [],
   "source": [
    "# Do a network\n",
    "model = Sequential()\n",
    "model.add(Dense(32, input_shape=input_shape))\n",
    "model.add(Activation('relu'))\n",
    "\n",
    "model.add(Dense(num_classes, activation='softmax'))"
   ]
  },
  {
   "cell_type": "code",
   "execution_count": 9,
   "metadata": {
    "collapsed": true
   },
   "outputs": [],
   "source": [
    "model.compile(loss='categorical_crossentropy', optimizer='adam', metrics=['accuracy'])\n"
   ]
  },
  {
   "cell_type": "code",
   "execution_count": 10,
   "metadata": {
    "scrolled": true
   },
   "outputs": [
    {
     "name": "stdout",
     "output_type": "stream",
     "text": [
      "_________________________________________________________________\n",
      "Layer (type)                 Output Shape              Param #   \n",
      "=================================================================\n",
      "dense_1 (Dense)              (None, 32)                25120     \n",
      "_________________________________________________________________\n",
      "activation_1 (Activation)    (None, 32)                0         \n",
      "_________________________________________________________________\n",
      "dense_2 (Dense)              (None, 10)                330       \n",
      "=================================================================\n",
      "Total params: 25,450\n",
      "Trainable params: 25,450\n",
      "Non-trainable params: 0\n",
      "_________________________________________________________________\n",
      "None\n"
     ]
    }
   ],
   "source": [
    "print(model.summary())"
   ]
  },
  {
   "cell_type": "code",
   "execution_count": 11,
   "metadata": {},
   "outputs": [
    {
     "data": {
      "image/png": "[encoded data removed]",
      "text/plain": [
       "<IPython.core.display.Image object>"
      ]
     },
     "execution_count": 11,
     "metadata": {},
     "output_type": "execute_result"
    }
   ],
   "source": [
    "from keras.utils import plot_model\n",
    "plot_model(model, to_file='model.png', show_shapes=True)\n",
    "\n",
    "from IPython.display import Image\n",
    "Image(\"model.png\")"
   ]
  },
  {
   "cell_type": "code",
   "execution_count": 12,
   "metadata": {
    "scrolled": true
   },
   "outputs": [
    {
     "name": "stdout",
     "output_type": "stream",
     "text": [
      "Train on 60000 samples, validate on 10000 samples\n",
      "Epoch 1/10\n",
      "60000/60000 [==============================] - 3s - loss: 0.5110 - acc: 0.8598 - val_loss: 0.2751 - val_acc: 0.9218\n",
      "Epoch 2/10\n",
      "60000/60000 [==============================] - 2s - loss: 0.2586 - acc: 0.9262 - val_loss: 0.2342 - val_acc: 0.9331\n",
      "Epoch 3/10\n",
      "60000/60000 [==============================] - 3s - loss: 0.2192 - acc: 0.9375 - val_loss: 0.2073 - val_acc: 0.9401\n",
      "Epoch 4/10\n",
      "60000/60000 [==============================] - 3s - loss: 0.1925 - acc: 0.9446 - val_loss: 0.1871 - val_acc: 0.9458\n",
      "Epoch 5/10\n",
      "60000/60000 [==============================] - 3s - loss: 0.1714 - acc: 0.9505 - val_loss: 0.1732 - val_acc: 0.9495\n",
      "Epoch 6/10\n",
      "60000/60000 [==============================] - 3s - loss: 0.1543 - acc: 0.9552 - val_loss: 0.1533 - val_acc: 0.9569\n",
      "Epoch 7/10\n",
      "60000/60000 [==============================] - 3s - loss: 0.1408 - acc: 0.9594 - val_loss: 0.1459 - val_acc: 0.9587\n",
      "Epoch 8/10\n",
      "60000/60000 [==============================] - 2s - loss: 0.1281 - acc: 0.9631 - val_loss: 0.1386 - val_acc: 0.9602\n",
      "Epoch 9/10\n",
      "60000/60000 [==============================] - 3s - loss: 0.1183 - acc: 0.9659 - val_loss: 0.1318 - val_acc: 0.9610\n",
      "Epoch 10/10\n",
      "60000/60000 [==============================] - 2s - loss: 0.1101 - acc: 0.9679 - val_loss: 0.1313 - val_acc: 0.9638\n"
     ]
    },
    {
     "data": {
      "text/plain": [
       "<keras.callbacks.History at 0x7eff3cbfdf28>"
      ]
     },
     "execution_count": 12,
     "metadata": {},
     "output_type": "execute_result"
    }
   ],
   "source": [
    "model.fit(x_train, y_train,\n",
    "          batch_size=batch_size,\n",
    "          epochs=epochs,\n",
    "          verbose=1,\n",
    "          validation_data=(x_test, y_test))"
   ]
  },
  {
   "cell_type": "code",
   "execution_count": 13,
   "metadata": {},
   "outputs": [
    {
     "name": "stdout",
     "output_type": "stream",
     "text": [
      "Test loss: 0.103060656899\n",
      "Test accuracy: 0.9691\n"
     ]
    }
   ],
   "source": [
    "score = model.evaluate(x_test, y_test, verbose=0)\n",
    "print('Test loss:', score[0])\n",
    "print('Test accuracy:', score[1])"
   ]
  },
  {
   "cell_type": "code",
   "execution_count": 14,
   "metadata": {
    "collapsed": true
   },
   "outputs": [],
   "source": [
    "# save the model\n",
    "model.save('mnist-model.h5')"
   ]
  },
  {
   "cell_type": "code",
   "execution_count": null,
   "metadata": {
    "collapsed": true
   },
   "outputs": [],
   "source": []
  }
 ],
 "metadata": {
  "kernelspec": {
   "display_name": "Python 3",
   "language": "python",
   "name": "python3"
  },
  "language_info": {
   "codemirror_mode": {
    "name": "ipython",
    "version": 3
   },
   "file_extension": ".py",
   "mimetype": "text/x-python",
   "name": "python",
   "nbconvert_exporter": "python",
   "pygments_lexer": "ipython3",
   "version": "3.5.3"
  }
 },
 "nbformat": 4,
 "nbformat_minor": 2
}
